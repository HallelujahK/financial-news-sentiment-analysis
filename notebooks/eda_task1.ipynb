{
 "cells": [
  {
   "cell_type": "code",
   "execution_count": 1,
   "metadata": {},
   "outputs": [],
   "source": [
    "import pandas as pd\n",
    "import numpy as np\n",
    "import sys\n",
    "import os\n",
    "\n",
    "# Define the path to the src directory\n",
    "src_dir = os.path.abspath(os.path.join(os.getcwd(), '..', 'src'))\n",
    "sys.path.insert(0, src_dir)\n",
    "\n",
    "from eda import DescStat\n",
    "from preprocess_data import DataPreprocessor"
   ]
  },
  {
   "cell_type": "markdown",
   "metadata": {},
   "source": [
    "### **Data Loading and Cleaning**"
   ]
  },
  {
   "cell_type": "code",
   "execution_count": 3,
   "metadata": {},
   "outputs": [
    {
     "data": {
      "text/html": [
       "<div>\n",
       "<style scoped>\n",
       "    .dataframe tbody tr th:only-of-type {\n",
       "        vertical-align: middle;\n",
       "    }\n",
       "\n",
       "    .dataframe tbody tr th {\n",
       "        vertical-align: top;\n",
       "    }\n",
       "\n",
       "    .dataframe thead th {\n",
       "        text-align: right;\n",
       "    }\n",
       "</style>\n",
       "<table border=\"1\" class=\"dataframe\">\n",
       "  <thead>\n",
       "    <tr style=\"text-align: right;\">\n",
       "      <th></th>\n",
       "      <th>Unnamed: 0</th>\n",
       "      <th>headline</th>\n",
       "      <th>url</th>\n",
       "      <th>publisher</th>\n",
       "      <th>date</th>\n",
       "      <th>stock</th>\n",
       "      <th>year</th>\n",
       "      <th>month</th>\n",
       "      <th>day</th>\n",
       "    </tr>\n",
       "  </thead>\n",
       "  <tbody>\n",
       "    <tr>\n",
       "      <th>0</th>\n",
       "      <td>0</td>\n",
       "      <td>stocks that hit 52-week highs on friday</td>\n",
       "      <td>https://www.benzinga.com/news/20/06/16190091/s...</td>\n",
       "      <td>benzinga insights</td>\n",
       "      <td>2020-06-05 14:30:54+00:00</td>\n",
       "      <td>A</td>\n",
       "      <td>2020</td>\n",
       "      <td>6</td>\n",
       "      <td>5</td>\n",
       "    </tr>\n",
       "    <tr>\n",
       "      <th>1</th>\n",
       "      <td>1</td>\n",
       "      <td>stocks that hit 52-week highs on wednesday</td>\n",
       "      <td>https://www.benzinga.com/news/20/06/16170189/s...</td>\n",
       "      <td>benzinga insights</td>\n",
       "      <td>2020-06-03 14:45:20+00:00</td>\n",
       "      <td>A</td>\n",
       "      <td>2020</td>\n",
       "      <td>6</td>\n",
       "      <td>3</td>\n",
       "    </tr>\n",
       "    <tr>\n",
       "      <th>2</th>\n",
       "      <td>2</td>\n",
       "      <td>71 biggest movers from friday</td>\n",
       "      <td>https://www.benzinga.com/news/20/05/16103463/7...</td>\n",
       "      <td>lisa levin</td>\n",
       "      <td>2020-05-26 08:30:07+00:00</td>\n",
       "      <td>A</td>\n",
       "      <td>2020</td>\n",
       "      <td>5</td>\n",
       "      <td>26</td>\n",
       "    </tr>\n",
       "    <tr>\n",
       "      <th>3</th>\n",
       "      <td>3</td>\n",
       "      <td>46 stocks moving in friday's mid-day session</td>\n",
       "      <td>https://www.benzinga.com/news/20/05/16095921/4...</td>\n",
       "      <td>lisa levin</td>\n",
       "      <td>2020-05-22 16:45:06+00:00</td>\n",
       "      <td>A</td>\n",
       "      <td>2020</td>\n",
       "      <td>5</td>\n",
       "      <td>22</td>\n",
       "    </tr>\n",
       "    <tr>\n",
       "      <th>4</th>\n",
       "      <td>4</td>\n",
       "      <td>b of a securities maintains neutral on agilent...</td>\n",
       "      <td>https://www.benzinga.com/news/20/05/16095304/b...</td>\n",
       "      <td>vick meyer</td>\n",
       "      <td>2020-05-22 15:38:59+00:00</td>\n",
       "      <td>A</td>\n",
       "      <td>2020</td>\n",
       "      <td>5</td>\n",
       "      <td>22</td>\n",
       "    </tr>\n",
       "  </tbody>\n",
       "</table>\n",
       "</div>"
      ],
      "text/plain": [
       "   Unnamed: 0                                           headline  \\\n",
       "0           0            stocks that hit 52-week highs on friday   \n",
       "1           1         stocks that hit 52-week highs on wednesday   \n",
       "2           2                      71 biggest movers from friday   \n",
       "3           3       46 stocks moving in friday's mid-day session   \n",
       "4           4  b of a securities maintains neutral on agilent...   \n",
       "\n",
       "                                                 url          publisher  \\\n",
       "0  https://www.benzinga.com/news/20/06/16190091/s...  benzinga insights   \n",
       "1  https://www.benzinga.com/news/20/06/16170189/s...  benzinga insights   \n",
       "2  https://www.benzinga.com/news/20/05/16103463/7...         lisa levin   \n",
       "3  https://www.benzinga.com/news/20/05/16095921/4...         lisa levin   \n",
       "4  https://www.benzinga.com/news/20/05/16095304/b...         vick meyer   \n",
       "\n",
       "                       date stock  year  month  day  \n",
       "0 2020-06-05 14:30:54+00:00     A  2020      6    5  \n",
       "1 2020-06-03 14:45:20+00:00     A  2020      6    3  \n",
       "2 2020-05-26 08:30:07+00:00     A  2020      5   26  \n",
       "3 2020-05-22 16:45:06+00:00     A  2020      5   22  \n",
       "4 2020-05-22 15:38:59+00:00     A  2020      5   22  "
      ]
     },
     "execution_count": 3,
     "metadata": {},
     "output_type": "execute_result"
    }
   ],
   "source": [
    "# Load and clean data\n",
    "path = \"/Users/judy/Downloads/KAIM_Week_1_Challenge/financial-news-sentiment-analysis/data/raw_analyst_ratings.csv\"\n",
    "preprocessor = DataPreprocessor(path)\n",
    "preprocessed_data = preprocessor.preprocess()\n",
    "\n",
    "\n",
    "# Create an instance of preprocess_data\n",
    "\n",
    "preprocessed_data.head()"
   ]
  },
  {
   "cell_type": "markdown",
   "metadata": {},
   "source": [
    "### **Descriptive Statistics**"
   ]
  },
  {
   "cell_type": "markdown",
   "metadata": {},
   "source": [
    "#### *Basic Statistics for Textual Lengths*"
   ]
  },
  {
   "cell_type": "code",
   "execution_count": 4,
   "metadata": {},
   "outputs": [],
   "source": [
    "# Define the path to the src directory\n",
    "src_dir = os.path.abspath(os.path.join(os.getcwd(), '..', 'src'))\n",
    "sys.path.insert(0, src_dir)"
   ]
  },
  {
   "cell_type": "code",
   "execution_count": 4,
   "metadata": {},
   "outputs": [
    {
     "name": "stdout",
     "output_type": "stream",
     "text": [
      "Headline Length Statistics:\n",
      " count    36066.000000\n",
      "mean        78.215605\n",
      "std         41.234880\n",
      "min         12.000000\n",
      "25%         50.000000\n",
      "50%         72.000000\n",
      "75%         92.000000\n",
      "max        512.000000\n",
      "Name: headline_length, dtype: float64\n",
      "Textual Lengths Statistics:\n",
      "None\n"
     ]
    }
   ],
   "source": [
    "# Create an instance of DescStat with the preprocessed data\n",
    "desc_stat_instance = DescStat(preprocessed_data)\n",
    "\n",
    "# Compute headline length statistics\n",
    "headline_lengths_stats = desc_stat_instance.compute_headline_length()\n",
    "\n",
    "print(\"Textual Lengths Statistics:\")\n",
    "print(headline_lengths_stats)"
   ]
  },
  {
   "cell_type": "markdown",
   "metadata": {},
   "source": [
    "#### *Number of Articles per Publisher*"
   ]
  },
  {
   "cell_type": "code",
   "execution_count": 5,
   "metadata": {},
   "outputs": [
    {
     "name": "stdout",
     "output_type": "stream",
     "text": [
      "Top 10 Publishers by Article Count:\n",
      " publisher\n",
      "benzinga newsdesk    12422\n",
      "paul quintaro         4157\n",
      "lisa levin            3999\n",
      "etf professor         2880\n",
      "vick meyer            2128\n",
      "charles gross         1732\n",
      "hal lindon            1430\n",
      "benzinga.com          1153\n",
      "eddie staley           984\n",
      "benzinga insights      735\n",
      "Name: count, dtype: int64\n"
     ]
    }
   ],
   "source": [
    "desc_stat_instance.count_articles_per_publisher()"
   ]
  },
  {
   "cell_type": "markdown",
   "metadata": {},
   "source": [
    "#### *Trends over Time*"
   ]
  },
  {
   "cell_type": "code",
   "execution_count": 6,
   "metadata": {},
   "outputs": [
    {
     "name": "stdout",
     "output_type": "stream",
     "text": [
      "Yearly Trends:\n",
      " year\n",
      "2011      593\n",
      "2012      826\n",
      "2013      794\n",
      "2014     1107\n",
      "2015     3409\n",
      "2016     3798\n",
      "2017     3208\n",
      "2018     3028\n",
      "2019     4652\n",
      "2020    14651\n",
      "Name: count, dtype: int64\n",
      "Monthly Trends:\n",
      " month\n",
      "1     2153\n",
      "2     2568\n",
      "3     3184\n",
      "4     4912\n",
      "5     7369\n",
      "6     4067\n",
      "7     1802\n",
      "8     2253\n",
      "9     1611\n",
      "10    1998\n",
      "11    2269\n",
      "12    1880\n",
      "Name: count, dtype: int64\n",
      "Weekday Trends:\n",
      " day_of_week\n",
      "Thursday     7832\n",
      "Wednesday    7660\n",
      "Tuesday      7483\n",
      "Monday       6966\n",
      "Friday       5755\n",
      "Sunday        208\n",
      "Saturday      162\n",
      "Name: count, dtype: int64\n"
     ]
    }
   ],
   "source": [
    "desc_stat_instance.analyze_publication_dates()"
   ]
  },
  {
   "cell_type": "markdown",
   "metadata": {},
   "source": [
    "### **Text Analysis**"
   ]
  },
  {
   "cell_type": "markdown",
   "metadata": {},
   "source": [
    "#### *Sentiment Analysis on Headlines*"
   ]
  },
  {
   "cell_type": "markdown",
   "metadata": {},
   "source": [
    "#### *Topic Modeling*"
   ]
  },
  {
   "cell_type": "markdown",
   "metadata": {},
   "source": [
    "*Extract keywords/phrases*"
   ]
  },
  {
   "cell_type": "markdown",
   "metadata": {},
   "source": [
    "*Extracting Topics/ Significant Events*"
   ]
  },
  {
   "cell_type": "markdown",
   "metadata": {},
   "source": [
    "### **Time Series Analysis**"
   ]
  },
  {
   "cell_type": "markdown",
   "metadata": {},
   "source": [
    "#### *Publication frequency variation over time*"
   ]
  },
  {
   "cell_type": "markdown",
   "metadata": {},
   "source": [
    "#### *Publication Spike to Market Events*"
   ]
  },
  {
   "cell_type": "markdown",
   "metadata": {},
   "source": [
    "### **Publisher Analysis**"
   ]
  },
  {
   "cell_type": "markdown",
   "metadata": {},
   "source": [
    "#### *Publishers Contribution*"
   ]
  },
  {
   "cell_type": "markdown",
   "metadata": {},
   "source": [
    "#### *News Type Analysis per Publisher*"
   ]
  }
 ],
 "metadata": {
  "kernelspec": {
   "display_name": "venv",
   "language": "python",
   "name": "python3"
  },
  "language_info": {
   "codemirror_mode": {
    "name": "ipython",
    "version": 3
   },
   "file_extension": ".py",
   "mimetype": "text/x-python",
   "name": "python",
   "nbconvert_exporter": "python",
   "pygments_lexer": "ipython3",
   "version": "3.8.9"
  }
 },
 "nbformat": 4,
 "nbformat_minor": 2
}
