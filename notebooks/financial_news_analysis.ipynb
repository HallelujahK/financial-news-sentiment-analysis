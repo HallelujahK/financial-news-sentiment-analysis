{
 "cells": [
  {
   "attachments": {},
   "cell_type": "markdown",
   "metadata": {},
   "source": [
    "# Financial News Data Analysis\n",
    "\n",
    "## Introduction\n",
    "This notebook performs an Exploratory Data Analysis (EDA) on a financial news dataset to uncover patterns, trends, and insights. The main focus is on analyzing the relationship between news sentiment and stock price movements.\n",
    "\n",
    "## Objective\n",
    "- Compute basic statistics for textual lengths (headline length).\n",
    "- Analyze the publication dates to identify trends.\n",
    "- Perform sentiment analysis on news headlines.\n",
    "- Extract common keywords or topics from the headlines.\n",
    "- Analyze the time series data to understand publication frequency trends.\n",
    "- Study the contribution of different publishers to the dataset."
   ]
  },
  {
   "attachments": {},
   "cell_type": "markdown",
   "metadata": {},
   "source": [
    "### Loading and Preprocessing the Data"
   ]
  },
  {
   "cell_type": "code",
   "execution_count": null,
   "metadata": {},
   "outputs": [
    {
     "ename": "",
     "evalue": "",
     "output_type": "error",
     "traceback": [
      "\u001b[1;31mFailed to start the Kernel. \n",
      "\u001b[1;31mPython extension is not exporting the jupyter API. \n",
      "\u001b[1;31mView Jupyter <a href='command:jupyter.viewOutput'>log</a> for further details."
     ]
    }
   ],
   "source": [
    "#Importing Important Libraries\n",
    "import pandas as pd\n",
    "\n",
    "# Loading the Dataset\n",
    "fin_news = pd.read_csv('/Users/judy/Downloads/KAIM_Week_1_Challenge/financial-news-sentiment-analysis/data/raw_analyst_ratings.csv')\n",
    "\n",
    "# The first few rows of the news data\n",
    "fin_news.head(10)"
   ]
  },
  {
   "cell_type": "code",
   "execution_count": null,
   "metadata": {},
   "outputs": [
    {
     "ename": "",
     "evalue": "",
     "output_type": "error",
     "traceback": [
      "\u001b[1;31mFailed to start the Kernel. \n",
      "\u001b[1;31mPython extension is not exporting the jupyter API. \n",
      "\u001b[1;31mView Jupyter <a href='command:jupyter.viewOutput'>log</a> for further details."
     ]
    }
   ],
   "source": [
    "#Imports\n",
    "\n",
    "import sys\n",
    "sys.path.append('/Users/judy/Downloads/KAIM_Week_1_Challenge/financial-news-sentiment-analysis/scripts')\n",
    "\n",
    "\n",
    "import os\n",
    "print(os.getcwd())  # Check current working directory\n",
    "os.chdir('/Users/judy/Downloads/KAIM_Week_1_Challenge/financial-news-sentiment-analysis/scripts')\n",
    "\n",
    "# Add the scripts directory to sys.path\n",
    "\n",
    "\n",
    "# Instantiate class DataPreprocessor() \n",
    "from scripts.data_preprocessing import DataPreprocessor\n",
    "preprocess = DataPreprocessor(fin_news)\n",
    "preprocess.preprocess()"
   ]
  },
  {
   "cell_type": "code",
   "execution_count": null,
   "metadata": {},
   "outputs": [
    {
     "ename": "",
     "evalue": "",
     "output_type": "error",
     "traceback": [
      "\u001b[1;31mFailed to start the Kernel. \n",
      "\u001b[1;31mPython extension is not exporting the jupyter API. \n",
      "\u001b[1;31mView Jupyter <a href='command:jupyter.viewOutput'>log</a> for further details."
     ]
    }
   ],
   "source": [
    "import sys\n",
    "print(sys.executable)\n"
   ]
  },
  {
   "cell_type": "code",
   "execution_count": null,
   "metadata": {},
   "outputs": [
    {
     "ename": "",
     "evalue": "",
     "output_type": "error",
     "traceback": [
      "\u001b[1;31mFailed to start the Kernel. \n",
      "\u001b[1;31mPython extension is not exporting the jupyter API. \n",
      "\u001b[1;31mView Jupyter <a href='command:jupyter.viewOutput'>log</a> for further details."
     ]
    }
   ],
   "source": []
  }
 ],
 "metadata": {
  "kernelspec": {
   "display_name": "venv",
   "language": "python",
   "name": "python3"
  },
  "language_info": {
   "codemirror_mode": {
    "name": "ipython",
    "version": 3
   },
   "file_extension": ".py",
   "mimetype": "text/x-python",
   "name": "python",
   "nbconvert_exporter": "python",
   "pygments_lexer": "ipython3",
   "version": "3.8.9"
  },
  "orig_nbformat": 4,
  "vscode": {
   "interpreter": {
    "hash": "41d862dcfd2c8ffd989edb0a1e6c0bc4f8e24f9df5f8f9de06fb0da76b9dbc37"
   }
  }
 },
 "nbformat": 4,
 "nbformat_minor": 2
}
